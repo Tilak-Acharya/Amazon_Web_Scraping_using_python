{
 "cells": [
  {
   "cell_type": "code",
   "execution_count": 2,
   "metadata": {},
   "outputs": [],
   "source": [
    "from bs4 import BeautifulSoup\n",
    "import requests\n",
    "import time\n",
    "import datetime\n",
    "import smtplib\n",
    "from selenium import webdriver\n",
    "import csv\n",
    "import pandas as pd"
   ]
  },
  {
   "cell_type": "code",
   "execution_count": 22,
   "metadata": {},
   "outputs": [],
   "source": [
    "def check_price():\n",
    "    URL = 'https://www.amazon.in/Sony-PS5-Console-Cricket-Bundle/dp/B0CJ9JM214/ref=sr_1_1?crid=2NT257ZS6JDKD&dib=eyJ2IjoiMSJ9.T70BsT3AvgaXJWxEb6f3HhdxTijf8N7E3CMdUuj9RbRJm58KKKygU7DTIYV8w69alAetdNVl4IvJwX9XherOpXJMonw-UZac0kFlxXdpxovTa7KcoI-LUKxyTxX11y0pzdHoDe61qfzSglYDjDvRAsnXg7mwbbARhTLXncCmkjNvtrBks-coCnXFaFksxmITk-UntoC6mFcALsOAUXoz6lZ-mvCSbfqW1WaaPLUTCVU.P9aFCH8aLROr0gGtJ8IVDHC_yaLmt2VlpQtEPaComhs&dib_tag=se&keywords=ps5&qid=1708932065&s=videogames&sprefix=ps5%2Cvideogames%2C326&sr=1-1-spons&sp_csd=d2lkZ2V0TmFtZT1zcF9hdGY&psc=1'\n",
    "\n",
    "    options = webdriver.ChromeOptions()\n",
    "    options.add_argument('headless')  # To run Chrome in headless mode\n",
    "    driver = webdriver.Chrome(options=options)\n",
    "    driver.get(URL)\n",
    "\n",
    "    soup = BeautifulSoup(driver.page_source, 'html.parser')\n",
    "\n",
    "    title_element = soup.find('span', id='productTitle')\n",
    "    title = title_element.get_text().strip()\n",
    "\n",
    "    price = soup.find(class_='a-price-whole').get_text().strip()\n",
    "\n",
    "    driver.quit()\n",
    "\n",
    "    today = datetime.date.today()\n",
    "\n",
    "    data = [title, price, today]\n",
    "\n",
    "    with open('AmazonWebScraperDatasets.csv', 'a+', newline='', encoding='UTF8') as f:\n",
    "        writer = csv.writer(f)\n",
    "        writer.writerow(data)\n",
    "\n",
    "    send_mail()\n",
    "\n",
    "def send_mail():\n",
    "    server = smtplib.SMTP_SSL('smtp.gmail.com',465)\n",
    "    server.ehlo()\n",
    "    #server.starttls()\n",
    "    server.ehlo()\n",
    "    server.login('ksd.tilak@gmail.com','bmcjpcbvellzmpqe')\n",
    "    \n",
    "    subject = \"The PS5 you want is now available! Now is your chance to buy!\"\n",
    "    body = \"Tilak, This is the moment we have been waiting for. Now is your chance to grab. Don't mess it up! Link here: https://www.amazon.in/Sony-PS5-Console-Cricket-Bundle/dp/B0CJ9JM214/ref=sr_1_1?crid=2NT257ZS6JDKD&dib=eyJ2IjoiMSJ9.T70BsT3AvgaXJWxEb6f3HhdxTijf8N7E3CMdUuj9RbRJm58KKKygU7DTIYV8w69alAetdNVl4IvJwX9XherOpXJMonw-UZac0kFlxXdpxovTa7KcoI-LUKxyTxX11y0pzdHoDe61qfzSglYDjDvRAsnXg7mwbbARhTLXncCmkjNvtrBks-coCnXFaFksxmITk-UntoC6mFcALsOAUXoz6lZ-mvCSbfqW1WaaPLUTCVU.P9aFCH8aLROr0gGtJ8IVDHC_yaLmt2VlpQtEPaComhs&dib_tag=se&keywords=ps5&qid=1708932065&s=videogames&sprefix=ps5%2Cvideogames%2C326&sr=1-1-spons&sp_csd=d2lkZ2V0TmFtZT1zcF9hdGY&psc=1\"\n",
    "\n",
    "    msg = f\"Subject: {subject}\\n\\n{body}\"\n",
    "    \n",
    "    server.sendmail(\n",
    "        'ksd.tilak@gmail.com',\n",
    "        'ksd.tilak@gmail.com',\n",
    "        msg\n",
    "    )"
   ]
  },
  {
   "cell_type": "code",
   "execution_count": 23,
   "metadata": {},
   "outputs": [],
   "source": [
    "check_price()"
   ]
  },
  {
   "cell_type": "code",
   "execution_count": 24,
   "metadata": {},
   "outputs": [
    {
     "name": "stdout",
     "output_type": "stream",
     "text": [
      "   Sony PS5 Console - Cricket 24 Bundle  50,990.  2024-02-26\n",
      "0  Sony PS5 Console - Cricket 24 Bundle  50,990.  2024-02-26\n",
      "1  Sony PS5 Console - Cricket 24 Bundle  50,990.  2024-02-26\n",
      "2  Sony PS5 Console - Cricket 24 Bundle  50,990.  2024-02-26\n",
      "3  Sony PS5 Console - Cricket 24 Bundle  50,990.  2024-02-26\n",
      "4  Sony PS5 Console - Cricket 24 Bundle  50,990.  2024-02-26\n",
      "5  Sony PS5 Console - Cricket 24 Bundle  50,990.  2024-02-26\n",
      "6  Sony PS5 Console - Cricket 24 Bundle  50,990.  2024-02-27\n",
      "7  Sony PS5 Console - Cricket 24 Bundle  50,990.  2024-02-27\n"
     ]
    }
   ],
   "source": [
    "df = pd.read_csv('AmazonWebScraperDatasets.csv')\n",
    "print(df)"
   ]
  },
  {
   "cell_type": "code",
   "execution_count": null,
   "metadata": {},
   "outputs": [],
   "source": [
    "# Runs check_price after a set time and inputs data into your CSV - To make it every day - 24 hours interval\n",
    "-\n",
    "while(True):\n",
    "    check_price()\n",
    "    time.sleep(86400)"
   ]
  }
 ],
 "metadata": {
  "kernelspec": {
   "display_name": "Python 3",
   "language": "python",
   "name": "python3"
  },
  "language_info": {
   "codemirror_mode": {
    "name": "ipython",
    "version": 3
   },
   "file_extension": ".py",
   "mimetype": "text/x-python",
   "name": "python",
   "nbconvert_exporter": "python",
   "pygments_lexer": "ipython3",
   "version": "3.8.3"
  }
 },
 "nbformat": 4,
 "nbformat_minor": 4
}
